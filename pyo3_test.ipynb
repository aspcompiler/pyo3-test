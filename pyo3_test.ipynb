{
 "cells": [
  {
   "cell_type": "code",
   "execution_count": 1,
   "id": "04ee3082-a0e1-4040-aaa9-5f99691c7585",
   "metadata": {},
   "outputs": [],
   "source": [
    "import pyo3_test"
   ]
  },
  {
   "cell_type": "code",
   "execution_count": 2,
   "id": "be6be228-e861-4446-b601-09f3c702ef87",
   "metadata": {},
   "outputs": [
    {
     "name": "stdout",
     "output_type": "stream",
     "text": [
      "8\n"
     ]
    }
   ],
   "source": [
    "print(pyo3_test.sum_as_string(3, 5))"
   ]
  },
  {
   "cell_type": "code",
   "execution_count": 3,
   "id": "e77cde48-41b1-4b54-84f0-ee45dcbdfb76",
   "metadata": {},
   "outputs": [
    {
     "name": "stdout",
     "output_type": "stream",
     "text": [
      "1\n"
     ]
    }
   ],
   "source": [
    "print(pyo3_test.return_myclass().num)"
   ]
  },
  {
   "cell_type": "code",
   "execution_count": 4,
   "id": "b66ba856-1e9f-410a-baab-9d5462a82d93",
   "metadata": {},
   "outputs": [
    {
     "name": "stdout",
     "output_type": "stream",
     "text": [
      "1\n",
      "2\n",
      "3\n",
      "4\n",
      "5\n"
     ]
    }
   ],
   "source": [
    "for i in pyo3_test.PyClassIter():\n",
    "    print(i)"
   ]
  },
  {
   "cell_type": "code",
   "execution_count": 5,
   "id": "49fb82d1-05d9-4b7e-a3e5-90604596df69",
   "metadata": {},
   "outputs": [
    {
     "name": "stdout",
     "output_type": "stream",
     "text": [
      "1\n",
      "2\n",
      "3\n",
      "4\n",
      "5\n"
     ]
    }
   ],
   "source": [
    "async for i in pyo3_test.PyAsyncIter():\n",
    "    print(i)"
   ]
  }
 ],
 "metadata": {
  "kernelspec": {
   "display_name": "Python 3 (ipykernel)",
   "language": "python",
   "name": "python3"
  },
  "language_info": {
   "codemirror_mode": {
    "name": "ipython",
    "version": 3
   },
   "file_extension": ".py",
   "mimetype": "text/x-python",
   "name": "python",
   "nbconvert_exporter": "python",
   "pygments_lexer": "ipython3",
   "version": "3.10.12"
  }
 },
 "nbformat": 4,
 "nbformat_minor": 5
}
